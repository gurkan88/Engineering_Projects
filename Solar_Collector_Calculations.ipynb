{
 "cells": [
  {
   "cell_type": "markdown",
   "metadata": {},
   "source": [
    "## FLAT PLATE SOLAR COLLECTOR PROJECT"
   ]
  },
  {
   "cell_type": "markdown",
   "metadata": {},
   "source": [
    "---"
   ]
  },
  {
   "cell_type": "markdown",
   "metadata": {},
   "source": [
    "## IZMIR, APRIL "
   ]
  },
  {
   "cell_type": "code",
   "execution_count": 503,
   "metadata": {},
   "outputs": [],
   "source": [
    "cp = 4.184 # water cp is specific heat in KJ/kg.K\n",
    "m_dot = 0.0133 # m is mass flow rate in kg/s\n",
    "m = 1150 # m is kg/day"
   ]
  },
  {
   "cell_type": "code",
   "execution_count": 504,
   "metadata": {},
   "outputs": [],
   "source": [
    "T_desired = 50 # in Celcius degree\n",
    "T_ambient_April = 16.6 # in Celcius"
   ]
  },
  {
   "cell_type": "code",
   "execution_count": 505,
   "metadata": {},
   "outputs": [
    {
     "data": {
      "text/plain": [
       "160707.44"
      ]
     },
     "execution_count": 505,
     "metadata": {},
     "output_type": "execute_result"
    }
   ],
   "source": [
    "Q = m * cp * (T_desired - T_ambient_April) # Q is KJ/day\n",
    "Q"
   ]
  },
  {
   "cell_type": "code",
   "execution_count": 506,
   "metadata": {},
   "outputs": [
    {
     "data": {
      "text/plain": [
       "1.85861648"
      ]
     },
     "execution_count": 506,
     "metadata": {},
     "output_type": "execute_result"
    }
   ],
   "source": [
    "Q_dot = m_dot * cp * (T_desired - T_ambient_April) # Q is heat requirement in kW\n",
    "Q_dot"
   ]
  },
  {
   "cell_type": "markdown",
   "metadata": {},
   "source": [
    "---"
   ]
  },
  {
   "cell_type": "code",
   "execution_count": 507,
   "metadata": {},
   "outputs": [
    {
     "data": {
      "text/plain": [
       "38.86666666666667"
      ]
     },
     "execution_count": 507,
     "metadata": {},
     "output_type": "execute_result"
    }
   ],
   "source": [
    "T_average_April = (T_ambient_April + 2*T_desired)/3 # average temperature in Celcius\n",
    "T_average_April"
   ]
  },
  {
   "cell_type": "markdown",
   "metadata": {},
   "source": [
    "---"
   ]
  },
  {
   "cell_type": "code",
   "execution_count": 508,
   "metadata": {},
   "outputs": [],
   "source": [
    "H = 14654 # H is the monthly average daily total radiation on a horizontal surface in kJ/m2day\n",
    "R = 0.978 # he monthly total radiation tilt factor\n",
    "A = 1 # A is 1 for collector facing directly to south\n",
    "t = 8 # t is "
   ]
  },
  {
   "cell_type": "code",
   "execution_count": 509,
   "metadata": {},
   "outputs": [
    {
     "data": {
      "text/plain": [
       "0.49762541666666665"
      ]
     },
     "execution_count": 509,
     "metadata": {},
     "output_type": "execute_result"
    }
   ],
   "source": [
    "Gt = (H * R * A) / (3600 * t) # Gt is total radiation in kW/m2\n",
    "Gt"
   ]
  },
  {
   "cell_type": "markdown",
   "metadata": {},
   "source": [
    "---"
   ]
  },
  {
   "cell_type": "code",
   "execution_count": 510,
   "metadata": {},
   "outputs": [],
   "source": [
    "a = .863    # a and b efficiency factor\n",
    "b = 6.615"
   ]
  },
  {
   "cell_type": "code",
   "execution_count": 511,
   "metadata": {},
   "outputs": [
    {
     "data": {
      "text/plain": [
       "0.567006276474691"
      ]
     },
     "execution_count": 511,
     "metadata": {},
     "output_type": "execute_result"
    }
   ],
   "source": [
    "efficiency_April = a - b*(T_average_April - T_ambient_April)/(Gt*1000)\n",
    "efficiency_April"
   ]
  },
  {
   "cell_type": "markdown",
   "metadata": {},
   "source": [
    "---\n",
    "#### Crossection area of the collectors"
   ]
  },
  {
   "cell_type": "code",
   "execution_count": 512,
   "metadata": {},
   "outputs": [],
   "source": [
    "A_aperture = 1.87 # m2 for one collector"
   ]
  },
  {
   "cell_type": "code",
   "execution_count": 513,
   "metadata": {},
   "outputs": [
    {
     "data": {
      "text/plain": [
       "19.776665804857437"
      ]
     },
     "execution_count": 513,
     "metadata": {},
     "output_type": "execute_result"
    }
   ],
   "source": [
    "Ac = Q / (H * efficiency_April * R) # Ac is m2\n",
    "Ac"
   ]
  },
  {
   "cell_type": "code",
   "execution_count": 514,
   "metadata": {},
   "outputs": [
    {
     "data": {
      "text/plain": [
       "11"
      ]
     },
     "execution_count": 514,
     "metadata": {},
     "output_type": "execute_result"
    }
   ],
   "source": [
    "number_of_collectors = round(Ac / A_aperture)\n",
    "number_of_collectors"
   ]
  },
  {
   "cell_type": "markdown",
   "metadata": {},
   "source": [
    "---\n",
    "### Step 8"
   ]
  },
  {
   "cell_type": "code",
   "execution_count": 515,
   "metadata": {},
   "outputs": [],
   "source": [
    "import math"
   ]
  },
  {
   "cell_type": "code",
   "execution_count": 516,
   "metadata": {},
   "outputs": [],
   "source": [
    "Length = 2 # length of the collector in m\n",
    "Width = 1 # width of the collector in m\n",
    "B = 38.4 # B is tilt angle in degrees\n",
    "Height = Length * math.sin(B) #Height of the collector in m\n",
    "z = 0 # z is zenith angle in degrees\n",
    "Latitude = 38.4\n",
    "a = 90 - Latitude - 9.4"
   ]
  },
  {
   "cell_type": "code",
   "execution_count": 517,
   "metadata": {},
   "outputs": [
    {
     "data": {
      "text/plain": [
       "1.2897934658897348"
      ]
     },
     "execution_count": 517,
     "metadata": {},
     "output_type": "execute_result"
    }
   ],
   "source": [
    "Height"
   ]
  },
  {
   "cell_type": "code",
   "execution_count": 518,
   "metadata": {},
   "outputs": [
    {
     "data": {
      "text/plain": [
       "1.9645496282938102"
      ]
     },
     "execution_count": 518,
     "metadata": {},
     "output_type": "execute_result"
    }
   ],
   "source": [
    "y1 = (Height * math.cos(z) ) / math.tan(a) + Length * math.tan(B)\n",
    "y1 = round(y1)\n",
    "y1"
   ]
  },
  {
   "cell_type": "code",
   "execution_count": 519,
   "metadata": {},
   "outputs": [
    {
     "data": {
      "text/plain": [
       "1.0"
      ]
     },
     "execution_count": 519,
     "metadata": {},
     "output_type": "execute_result"
    }
   ],
   "source": [
    "x2 = (Height * math.sin(z)) / math.tan(a) + Width\n",
    "x2"
   ]
  },
  {
   "cell_type": "markdown",
   "metadata": {},
   "source": [
    "---\n",
    "---\n",
    "## Tabulated Results for NOVEMBER, JANUARY"
   ]
  },
  {
   "cell_type": "code",
   "execution_count": 520,
   "metadata": {},
   "outputs": [],
   "source": [
    "T_ambient_January = 12.3\n",
    "T_ambient_November = 20.4"
   ]
  },
  {
   "cell_type": "code",
   "execution_count": 521,
   "metadata": {},
   "outputs": [
    {
     "data": {
      "text/plain": [
       "37.43333333333333"
      ]
     },
     "execution_count": 521,
     "metadata": {},
     "output_type": "execute_result"
    }
   ],
   "source": [
    "T_average_Jan = (T_ambient_January + 2*T_desired)/3 # average temperature in Celcius\n",
    "T_average_Jan"
   ]
  },
  {
   "cell_type": "code",
   "execution_count": 522,
   "metadata": {},
   "outputs": [
    {
     "data": {
      "text/plain": [
       "40.13333333333333"
      ]
     },
     "execution_count": 522,
     "metadata": {},
     "output_type": "execute_result"
    }
   ],
   "source": [
    "T_average_Nov = (T_ambient_November + 2*T_desired)/3 # average temperature in Celcius\n",
    "T_average_Nov"
   ]
  },
  {
   "cell_type": "code",
   "execution_count": 523,
   "metadata": {},
   "outputs": [
    {
     "data": {
      "text/plain": [
       "181397.32000000004"
      ]
     },
     "execution_count": 523,
     "metadata": {},
     "output_type": "execute_result"
    }
   ],
   "source": [
    "Q_Jan = m * cp * (T_desired - T_ambient_January) # Q is KJ/day\n",
    "Q_Jan"
   ]
  },
  {
   "cell_type": "code",
   "execution_count": 524,
   "metadata": {},
   "outputs": [
    {
     "data": {
      "text/plain": [
       "142423.36000000002"
      ]
     },
     "execution_count": 524,
     "metadata": {},
     "output_type": "execute_result"
    }
   ],
   "source": [
    "Q_Nov = m * cp * (T_desired - T_ambient_November) # Q is KJ/day\n",
    "Q_Nov"
   ]
  },
  {
   "cell_type": "code",
   "execution_count": 525,
   "metadata": {},
   "outputs": [
    {
     "data": {
      "text/plain": [
       "2.0978994400000004"
      ]
     },
     "execution_count": 525,
     "metadata": {},
     "output_type": "execute_result"
    }
   ],
   "source": [
    "Q_dot_Jan = m_dot * cp * (T_desired - T_ambient_January) # Q is heat requirement in kW\n",
    "Q_dot_Jan"
   ]
  },
  {
   "cell_type": "code",
   "execution_count": 526,
   "metadata": {},
   "outputs": [
    {
     "data": {
      "text/plain": [
       "1.6471571200000001"
      ]
     },
     "execution_count": 526,
     "metadata": {},
     "output_type": "execute_result"
    }
   ],
   "source": [
    "Q_dot_Nov = m_dot * cp * (T_desired - T_ambient_November) # Q is heat requirement in kW\n",
    "Q_dot_Nov"
   ]
  },
  {
   "cell_type": "code",
   "execution_count": 527,
   "metadata": {},
   "outputs": [],
   "source": [
    "# January\n",
    "H_Jan = 5987 # H is the monthly average daily total radiation on a horizontal surface in kJ/m2day\n",
    "R_Jan = 1.665 # he monthly total radiation tilt factor\n",
    "A = 1 # A is 1 for collector facing directly to south\n",
    "t_Jan = 4.3 # t is "
   ]
  },
  {
   "cell_type": "code",
   "execution_count": 528,
   "metadata": {},
   "outputs": [
    {
     "data": {
      "text/plain": [
       "0.6439505813953488"
      ]
     },
     "execution_count": 528,
     "metadata": {},
     "output_type": "execute_result"
    }
   ],
   "source": [
    "# January\n",
    "Gt_Jan = (H_Jan * R_Jan * A) / (3600 * t_Jan) # Gt is total radiation in kW/m2\n",
    "Gt_Jan"
   ]
  },
  {
   "cell_type": "code",
   "execution_count": 529,
   "metadata": {},
   "outputs": [],
   "source": [
    "# November\n",
    "H_Nov = 7076 # H is the monthly average daily total radiation on a horizontal surface in kJ/m2day\n",
    "R_Nov = 1.738 # he monthly total radiation tilt factor\n",
    "A = 1 # A is 1 for collector facing directly to south\n",
    "t_Nov = 5.6 # t is "
   ]
  },
  {
   "cell_type": "code",
   "execution_count": 530,
   "metadata": {},
   "outputs": [
    {
     "data": {
      "text/plain": [
       "0.6100242063492063"
      ]
     },
     "execution_count": 530,
     "metadata": {},
     "output_type": "execute_result"
    }
   ],
   "source": [
    "# November\n",
    "Gt_Nov = (H_Nov * R_Nov * A) / (3600 * t_Nov) # Gt is total radiation in kW/m2\n",
    "Gt_Nov"
   ]
  },
  {
   "cell_type": "code",
   "execution_count": 531,
   "metadata": {},
   "outputs": [],
   "source": [
    "a = .863    # a and b efficiency factor\n",
    "b = 6.615"
   ]
  },
  {
   "cell_type": "code",
   "execution_count": 532,
   "metadata": {},
   "outputs": [
    {
     "data": {
      "text/plain": [
       "0.604817144353306"
      ]
     },
     "execution_count": 532,
     "metadata": {},
     "output_type": "execute_result"
    }
   ],
   "source": [
    "efficiency_Jan = a - b*(T_average_Jan - T_ambient_January)/(Gt_Jan*1000)\n",
    "efficiency_Jan"
   ]
  },
  {
   "cell_type": "code",
   "execution_count": 533,
   "metadata": {},
   "outputs": [
    {
     "data": {
      "text/plain": [
       "0.6490150488433649"
      ]
     },
     "execution_count": 533,
     "metadata": {},
     "output_type": "execute_result"
    }
   ],
   "source": [
    "efficiency_Nov = a - b*(T_average_Nov - T_ambient_November)/(Gt_Nov*1000)\n",
    "efficiency_Nov"
   ]
  },
  {
   "cell_type": "code",
   "execution_count": 534,
   "metadata": {},
   "outputs": [],
   "source": [
    "A_aperture = 1.87 # m2 for one collector"
   ]
  },
  {
   "cell_type": "code",
   "execution_count": 535,
   "metadata": {},
   "outputs": [
    {
     "data": {
      "text/plain": [
       "30.08730420564421"
      ]
     },
     "execution_count": 535,
     "metadata": {},
     "output_type": "execute_result"
    }
   ],
   "source": [
    "Ac_Jan = Q_Jan / (H_Jan * efficiency_Jan * R_Jan) # Ac is m2\n",
    "Ac_Jan"
   ]
  },
  {
   "cell_type": "code",
   "execution_count": 536,
   "metadata": {},
   "outputs": [
    {
     "data": {
      "text/plain": [
       "16"
      ]
     },
     "execution_count": 536,
     "metadata": {},
     "output_type": "execute_result"
    }
   ],
   "source": [
    "number_of_collectors_Jan = round(Ac_Jan / A_aperture)\n",
    "number_of_collectors_Jan"
   ]
  },
  {
   "cell_type": "code",
   "execution_count": 537,
   "metadata": {},
   "outputs": [],
   "source": [
    "A_aperture = 1.87 # m2 for one collector"
   ]
  },
  {
   "cell_type": "code",
   "execution_count": 538,
   "metadata": {},
   "outputs": [
    {
     "data": {
      "text/plain": [
       "17.84386233171128"
      ]
     },
     "execution_count": 538,
     "metadata": {},
     "output_type": "execute_result"
    }
   ],
   "source": [
    "Ac_Nov = Q_Nov / (H_Nov * efficiency_Nov * R_Nov) # Ac is m2\n",
    "Ac_Nov"
   ]
  },
  {
   "cell_type": "code",
   "execution_count": 539,
   "metadata": {},
   "outputs": [
    {
     "data": {
      "text/plain": [
       "10"
      ]
     },
     "execution_count": 539,
     "metadata": {},
     "output_type": "execute_result"
    }
   ],
   "source": [
    "number_of_collectors_Nov = round(Ac_Nov / A_aperture)\n",
    "number_of_collectors_Nov"
   ]
  },
  {
   "cell_type": "code",
   "execution_count": 540,
   "metadata": {},
   "outputs": [],
   "source": [
    "import math"
   ]
  },
  {
   "cell_type": "code",
   "execution_count": 557,
   "metadata": {},
   "outputs": [],
   "source": [
    "Length = 2 # length of the collector in m\n",
    "Width = 1 # width of the collector in m\n",
    "B = 38.4 # B is tilt angle in degrees\n",
    "Height = Length * math.sin(B) #Height of the collector in m\n",
    "z = 0 # z is zenith angle in degrees\n",
    "Latitude = 38.4\n",
    "a = 90 - Latitude + 20.9"
   ]
  },
  {
   "cell_type": "code",
   "execution_count": 558,
   "metadata": {},
   "outputs": [
    {
     "data": {
      "text/plain": [
       "1.2897934658897348"
      ]
     },
     "execution_count": 558,
     "metadata": {},
     "output_type": "execute_result"
    }
   ],
   "source": [
    "Height"
   ]
  },
  {
   "cell_type": "code",
   "execution_count": 559,
   "metadata": {},
   "outputs": [
    {
     "data": {
      "text/plain": [
       "7"
      ]
     },
     "execution_count": 559,
     "metadata": {},
     "output_type": "execute_result"
    }
   ],
   "source": [
    "y1_Jan = (Height * math.cos(z) ) / math.tan(a) + Length * math.tan(B)\n",
    "y1_Jan = round(y1_Jan)\n",
    "y1_Jan "
   ]
  },
  {
   "cell_type": "code",
   "execution_count": 560,
   "metadata": {},
   "outputs": [
    {
     "data": {
      "text/plain": [
       "1.0"
      ]
     },
     "execution_count": 560,
     "metadata": {},
     "output_type": "execute_result"
    }
   ],
   "source": [
    "x2_Jan = (Height * math.sin(z)) / math.tan(a) + Width\n",
    "x2_Jan"
   ]
  },
  {
   "cell_type": "code",
   "execution_count": null,
   "metadata": {},
   "outputs": [],
   "source": [
    "import math"
   ]
  },
  {
   "cell_type": "code",
   "execution_count": 551,
   "metadata": {},
   "outputs": [],
   "source": [
    "Length = 2 # length of the collector in m\n",
    "Width = 1 # width of the collector in m\n",
    "B = 38.4 # B is tilt angle in degrees\n",
    "Height = Length * math.sin(B) #Height of the collector in m\n",
    "z = 0 # z is zenith angle in degrees\n",
    "Latitude = 38.4\n",
    "a = 90 - Latitude + 18.9"
   ]
  },
  {
   "cell_type": "code",
   "execution_count": 552,
   "metadata": {},
   "outputs": [
    {
     "data": {
      "text/plain": [
       "1.2897934658897348"
      ]
     },
     "execution_count": 552,
     "metadata": {},
     "output_type": "execute_result"
    }
   ],
   "source": [
    "Height"
   ]
  },
  {
   "cell_type": "code",
   "execution_count": 556,
   "metadata": {},
   "outputs": [
    {
     "data": {
      "text/plain": [
       "2"
      ]
     },
     "execution_count": 556,
     "metadata": {},
     "output_type": "execute_result"
    }
   ],
   "source": [
    "y1_Nov = (Height * math.cos(z) ) / math.tan(a) + Length * math.tan(B)\n",
    "y1_Nov = round(y1_Nov)\n",
    "y1_Nov"
   ]
  },
  {
   "cell_type": "code",
   "execution_count": 561,
   "metadata": {},
   "outputs": [
    {
     "data": {
      "text/plain": [
       "1.0"
      ]
     },
     "execution_count": 561,
     "metadata": {},
     "output_type": "execute_result"
    }
   ],
   "source": [
    "x2_Nov = (Height * math.sin(z)) / math.tan(a) + Width\n",
    "x2_Nov"
   ]
  },
  {
   "cell_type": "markdown",
   "metadata": {},
   "source": [
    "---"
   ]
  },
  {
   "cell_type": "code",
   "execution_count": 9,
   "metadata": {},
   "outputs": [],
   "source": [
    "def find_number_of_collectors(T_ambient,T_desired,H,R,t,A_aperture):\n",
    "    cp = 4.184 # water cp is specific heat in KJ/kg.K\n",
    "    m_dot = 0.0133 # m is mass flow rate in kg/s\n",
    "    m = 1150 # m is kg/day\n",
    "    # T_desired = 50 # in Celcius degree\n",
    "    Q = m * cp * (T_desired - T_ambient) # Q is KJ/day\n",
    "    Q_dot = m_dot * cp * (T_desired - T_ambient) # Q is heat requirement in kW\n",
    "    T_average = (T_ambient + 2*T_desired)/3 # average temperature in Celcius\n",
    "    A = 1 # A is 1 for collector facing directly to south\n",
    "    Gt = (H * R * A) / (3600 * t) # Gt is total radiation in kW/m2\n",
    "    a = .863    # a and b efficiency factor\n",
    "    b = 6.615\n",
    "    efficiency = a - b*(T_average - T_ambient)/(Gt*1000)\n",
    "    Ac = Q / (H * efficiency * R) # Ac is m2\n",
    "    number_of_collectors = round(Ac / A_aperture)\n",
    "    return number_of_collectors\n"
   ]
  },
  {
   "cell_type": "code",
   "execution_count": 11,
   "metadata": {},
   "outputs": [
    {
     "name": "stdout",
     "output_type": "stream",
     "text": [
      "Total Number of collectors for January:  15\n"
     ]
    }
   ],
   "source": [
    "print(\"Total Number of collectors for January: \",find_number_of_collectors(T_ambient=11.5,T_desired=50,H=7997,R=1.408,t=5.2,A_aperture=1.87))"
   ]
  },
  {
   "cell_type": "code",
   "execution_count": null,
   "metadata": {},
   "outputs": [],
   "source": []
  },
  {
   "cell_type": "markdown",
   "metadata": {},
   "source": [
    "---\n",
    "### Pump Calculation"
   ]
  },
  {
   "cell_type": "code",
   "execution_count": 12,
   "metadata": {},
   "outputs": [],
   "source": [
    "Q = 0.0000133 # m3/s flow\n",
    "p = 1 # kg/m3 density of water\n",
    "H = 8 # m head \n"
   ]
  },
  {
   "cell_type": "code",
   "execution_count": 13,
   "metadata": {},
   "outputs": [
    {
     "data": {
      "text/plain": [
       "0.001043784"
      ]
     },
     "execution_count": 13,
     "metadata": {},
     "output_type": "execute_result"
    }
   ],
   "source": [
    "P = Q*p*H*9.81\n",
    "P"
   ]
  }
 ],
 "metadata": {
  "interpreter": {
   "hash": "df9803d5d1b6cb5abc1edc30c69a1153e23b31bf85805cdabf595a077425259e"
  },
  "kernelspec": {
   "display_name": "Python 3.9.5 64-bit",
   "language": "python",
   "name": "python3"
  },
  "language_info": {
   "codemirror_mode": {
    "name": "ipython",
    "version": 3
   },
   "file_extension": ".py",
   "mimetype": "text/x-python",
   "name": "python",
   "nbconvert_exporter": "python",
   "pygments_lexer": "ipython3",
   "version": "3.9.5"
  },
  "orig_nbformat": 4
 },
 "nbformat": 4,
 "nbformat_minor": 2
}
